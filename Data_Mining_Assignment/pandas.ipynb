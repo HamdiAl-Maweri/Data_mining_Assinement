{
 "cells": [
  {
   "cell_type": "code",
   "execution_count": null,
   "metadata": {},
   "outputs": [],
   "source": [
    "import pandas as pd\n",
    "import numpy as np\n",
    "pd.set_option('display.max_columns', None)\n",
    "pd.set_option('display.width', 500)\n",
    "pd.set_option('display.expand_frame_repr', False)\n"
   ]
  },
  {
   "cell_type": "code",
   "execution_count": null,
   "metadata": {},
   "outputs": [],
   "source": [
    "anime_ = pd.read_csv(\"anime.csv\")\n",
    "rating_ = pd.read_csv(\"rating.csv\") "
   ]
  },
  {
   "cell_type": "code",
   "execution_count": null,
   "metadata": {},
   "outputs": [],
   "source": [
    "anime = anime_.copy()\n",
    "rating =rating_.copy()"
   ]
  },
  {
   "cell_type": "code",
   "execution_count": null,
   "metadata": {},
   "outputs": [],
   "source": [
    "watched_but_not_rated = rating.loc[rating[\"rating\"] < 0,(\"user_id\",\"anime_id\")]\n",
    "rating = rating[rating[\"rating\"] >= 0]\n",
    "rating.columns = ['user_id', 'anime_id', 'user_rating']"
   ]
  },
  {
   "cell_type": "code",
   "execution_count": null,
   "metadata": {},
   "outputs": [],
   "source": [
    "#We can merge datasets on anime_id column\n",
    "df = anime.merge(rating, how=\"left\", on=\"anime_id\")\n"
   ]
  },
  {
   "cell_type": "code",
   "execution_count": null,
   "metadata": {},
   "outputs": [],
   "source": [
    "#Get rid of null values\n",
    "df.dropna(inplace=True)\n",
    "#Want to make recommendation for TV types\n",
    "df = df[df[\"type\"]==\"TV\"]\n",
    "df = df[~df[\"genre\"].str.contains(\"Hentai\")]"
   ]
  },
  {
   "cell_type": "code",
   "execution_count": null,
   "metadata": {},
   "outputs": [],
   "source": [
    "#Drop Animes that have least votes\n",
    "anime_watched_count = pd.DataFrame(df.anime_id.value_counts())\n",
    "anime_watched_count.columns = [\"total_vote\"]\n",
    "anime_watched_count = anime_watched_count[anime_watched_count[\"total_vote\"] > 10]\n",
    "\n",
    "#Get common anime series for our data\n",
    "common_anime = anime_watched_count.index\n",
    "df = df[df[\"anime_id\"].isin(common_anime)]\n",
    "\n",
    "# Take a random sample of 100000 rows\n",
    "df = df.sample(n=100000, random_state=42)\n",
    "# Get the value counts of anime_id\n",
    "anime_id_counts = df['anime_id'].value_counts()\n",
    "\n",
    "# Sort the DataFrame based on anime_id counts\n",
    "df = df.set_index('anime_id').loc[anime_id_counts.index].reset_index()\n",
    "\n",
    "df.drop([\"episodes\", \"type\"], axis=1, inplace=True)\n",
    "df"
   ]
  },
  {
   "cell_type": "code",
   "execution_count": null,
   "metadata": {},
   "outputs": [],
   "source": [
    "df.to_csv(\"Merged-Anime-Rating.csv\")"
   ]
  }
 ],
 "metadata": {
  "kernelspec": {
   "display_name": "Python 3",
   "language": "python",
   "name": "python3"
  },
  "language_info": {
   "codemirror_mode": {
    "name": "ipython",
    "version": 3
   },
   "file_extension": ".py",
   "mimetype": "text/x-python",
   "name": "python",
   "nbconvert_exporter": "python",
   "pygments_lexer": "ipython3",
   "version": "3.12.1"
  }
 },
 "nbformat": 4,
 "nbformat_minor": 2
}
